{
 "cells": [
  {
   "cell_type": "markdown",
   "metadata": {},
   "source": [
    "# Start\n",
    "\n",
    "Here are some quick examples of the core capabilities of 'pymatgen'"
   ]
  },
  {
   "cell_type": "markdown",
   "metadata": {},
   "source": [
    "## Element"
   ]
  },
  {
   "cell_type": "code",
   "execution_count": 10,
   "metadata": {},
   "outputs": [],
   "source": [
    "import pymatgen as mg"
   ]
  },
  {
   "cell_type": "code",
   "execution_count": 11,
   "metadata": {},
   "outputs": [
    {
     "data": {
      "text/plain": [
       "28.0855"
      ]
     },
     "execution_count": 11,
     "metadata": {},
     "output_type": "execute_result"
    }
   ],
   "source": [
    "si = mg.Element(\"Si\")\n",
    "si.atomic_mass"
   ]
  },
  {
   "cell_type": "code",
   "execution_count": 12,
   "metadata": {},
   "outputs": [
    {
     "data": {
      "text/plain": [
       "1687.0"
      ]
     },
     "execution_count": 12,
     "metadata": {},
     "output_type": "execute_result"
    }
   ],
   "source": [
    "si.melting_point"
   ]
  },
  {
   "cell_type": "markdown",
   "metadata": {},
   "source": [
    "## Compound "
   ]
  },
  {
   "cell_type": "code",
   "execution_count": 13,
   "metadata": {},
   "outputs": [
    {
     "data": {
      "text/plain": [
       "159.6882"
      ]
     },
     "execution_count": 13,
     "metadata": {},
     "output_type": "execute_result"
    }
   ],
   "source": [
    "comp = mg.Composition(\"Fe2O3\")\n",
    "comp.weight"
   ]
  },
  {
   "cell_type": "code",
   "execution_count": 14,
   "metadata": {},
   "outputs": [
    {
     "data": {
      "text/plain": [
       "2.0"
      ]
     },
     "execution_count": 14,
     "metadata": {},
     "output_type": "execute_result"
    }
   ],
   "source": [
    "comp[\"Fe\"]"
   ]
  },
  {
   "cell_type": "code",
   "execution_count": 15,
   "metadata": {},
   "outputs": [
    {
     "data": {
      "text/plain": [
       "0.4"
      ]
     },
     "execution_count": 15,
     "metadata": {},
     "output_type": "execute_result"
    }
   ],
   "source": [
    "comp.get_atomic_fraction(\"Fe\")"
   ]
  },
  {
   "cell_type": "markdown",
   "metadata": {},
   "source": [
    "## Molecule "
   ]
  },
  {
   "cell_type": "code",
   "execution_count": 37,
   "metadata": {},
   "outputs": [
    {
     "data": {
      "text/plain": [
       "Molecule Summary\n",
       "Site: C (0.0000, 0.0000, 0.0000)\n",
       "Site: H (0.0000, 0.0000, 1.0890)\n",
       "Site: H (1.0267, 0.0000, -0.3630)\n",
       "Site: H (-0.5134, -0.8892, -0.3630)\n",
       "Site: H (-0.5134, 0.8892, -0.3630)"
      ]
     },
     "execution_count": 37,
     "metadata": {},
     "output_type": "execute_result"
    }
   ],
   "source": [
    "coords = [[0.000000, 0.000000, 0.000000],\n",
    "          [0.000000, 0.000000, 1.089000],\n",
    "          [1.026719, 0.000000, -0.363000],\n",
    "          [-0.513360, -0.889165, -0.363000],\n",
    "          [-0.513360, 0.889165, -0.363000]]\n",
    "methane = mg.Molecule([\"C\", \"H\", \"H\", \"H\", \"H\"], coords)\n",
    "methane"
   ]
  },
  {
   "cell_type": "markdown",
   "metadata": {},
   "source": [
    "## Crystal\n",
    "\n",
    "##### Si"
   ]
  },
  {
   "cell_type": "code",
   "execution_count": 16,
   "metadata": {},
   "outputs": [
    {
     "data": {
      "text/plain": [
       "Structure Summary\n",
       "Lattice\n",
       "    abc : 3.84 3.84 3.84\n",
       " angles : 119.99999999999999 90.0 59.99999999999999\n",
       " volume : 40.03858081023113\n",
       "      A : 3.84 0.0 2.351321854362918e-16\n",
       "      B : 1.9200000000000002 2.715290039756343 -1.919999999999999\n",
       "      C : 0.0 0.0 3.84\n",
       "PeriodicSite: Si (0.0000, 0.0000, 0.0000) [0.0000, 0.0000, 0.0000]\n",
       "PeriodicSite: Si (3.8400, 1.3576, 1.9200) [0.7500, 0.5000, 0.7500]"
      ]
     },
     "execution_count": 16,
     "metadata": {},
     "output_type": "execute_result"
    }
   ],
   "source": [
    "element = [\"Si\", \"Si\"]\n",
    "coords = [[0, 0, 0], [0.75,0.5,0.75]]\n",
    "lattice = mg.Lattice.from_parameters(a=3.84, b=3.84, c=3.84, \n",
    "                                     alpha=120, beta=90, gamma=60)\n",
    "Si = mg.Structure(lattice, element, coords)\n",
    "Si"
   ]
  },
  {
   "cell_type": "markdown",
   "metadata": {},
   "source": [
    "##### CsCl"
   ]
  },
  {
   "cell_type": "code",
   "execution_count": 17,
   "metadata": {},
   "outputs": [],
   "source": [
    "lattice = mg.Lattice.cubic(4.2)\n",
    "CsCl = mg.Structure(lattice, [\"Cs\", \"Cl\"], [[0, 0, 0], [0.5, 0.5, 0.5]])"
   ]
  },
  {
   "cell_type": "code",
   "execution_count": 18,
   "metadata": {},
   "outputs": [
    {
     "data": {
      "text/plain": [
       "Structure Summary\n",
       "Lattice\n",
       "    abc : 4.2 4.2 4.2\n",
       " angles : 90.0 90.0 90.0\n",
       " volume : 74.08800000000001\n",
       "      A : 4.2 0.0 0.0\n",
       "      B : 0.0 4.2 0.0\n",
       "      C : 0.0 0.0 4.2\n",
       "PeriodicSite: Cs (0.0000, 0.0000, 0.0000) [0.0000, 0.0000, 0.0000]\n",
       "PeriodicSite: Cl (2.1000, 2.1000, 2.1000) [0.5000, 0.5000, 0.5000]"
      ]
     },
     "execution_count": 18,
     "metadata": {},
     "output_type": "execute_result"
    }
   ],
   "source": [
    "CsCl"
   ]
  },
  {
   "cell_type": "code",
   "execution_count": 19,
   "metadata": {},
   "outputs": [
    {
     "data": {
      "text/plain": [
       "74.08800000000001"
      ]
     },
     "execution_count": 19,
     "metadata": {},
     "output_type": "execute_result"
    }
   ],
   "source": [
    "CsCl.volume"
   ]
  },
  {
   "cell_type": "code",
   "execution_count": 20,
   "metadata": {},
   "outputs": [
    {
     "data": {
      "text/plain": [
       "Lattice\n",
       "    abc : 4.2 4.2 4.2\n",
       " angles : 90.0 90.0 90.0\n",
       " volume : 74.08800000000001\n",
       "      A : 4.2 0.0 0.0\n",
       "      B : 0.0 4.2 0.0\n",
       "      C : 0.0 0.0 4.2"
      ]
     },
     "execution_count": 20,
     "metadata": {},
     "output_type": "execute_result"
    }
   ],
   "source": [
    "CsCl.lattice"
   ]
  },
  {
   "cell_type": "code",
   "execution_count": 21,
   "metadata": {},
   "outputs": [
    {
     "data": {
      "text/plain": [
       "PeriodicSite: Cs (0.0000, 0.0000, 0.0000) [0.0000, 0.0000, 0.0000]"
      ]
     },
     "execution_count": 21,
     "metadata": {},
     "output_type": "execute_result"
    }
   ],
   "source": [
    "CsCl[0]"
   ]
  },
  {
   "cell_type": "code",
   "execution_count": 22,
   "metadata": {},
   "outputs": [
    {
     "data": {
      "text/plain": [
       "PeriodicSite: Cl (2.1000, 2.1000, 2.1000) [0.5000, 0.5000, 0.5000]"
      ]
     },
     "execution_count": 22,
     "metadata": {},
     "output_type": "execute_result"
    }
   ],
   "source": [
    "CsCl[1]"
   ]
  },
  {
   "cell_type": "code",
   "execution_count": 23,
   "metadata": {},
   "outputs": [
    {
     "data": {
      "text/plain": [
       "'Cs1 Cl1\\n1.0\\n4.200000 0.000000 0.000000\\n0.000000 4.200000 0.000000\\n0.000000 0.000000 4.200000\\nCs Cl\\n1 1\\ndirect\\n0.000000 0.000000 0.000000 Cs\\n0.500000 0.500000 0.500000 Cl\\n'"
      ]
     },
     "execution_count": 23,
     "metadata": {},
     "output_type": "execute_result"
    }
   ],
   "source": [
    "CsCl.to(fmt=\"poscar\")"
   ]
  },
  {
   "cell_type": "code",
   "execution_count": 24,
   "metadata": {},
   "outputs": [
    {
     "name": "stdout",
     "output_type": "stream",
     "text": [
      "Cs1 Cl1\r\n",
      "1.0\r\n",
      "4.200000 0.000000 0.000000\r\n",
      "0.000000 4.200000 0.000000\r\n",
      "0.000000 0.000000 4.200000\r\n",
      "Cs Cl\r\n",
      "1 1\r\n",
      "direct\r\n",
      "0.000000 0.000000 0.000000 Cs\r\n",
      "0.500000 0.500000 0.500000 Cl\r\n"
     ]
    }
   ],
   "source": [
    "CsCl.to(filename=\"POSCAR\")\n",
    "!cat POSCAR"
   ]
  },
  {
   "cell_type": "code",
   "execution_count": 25,
   "metadata": {},
   "outputs": [
    {
     "name": "stdout",
     "output_type": "stream",
     "text": [
      "# generated using pymatgen\r\n",
      "data_CsCl\r\n",
      "_symmetry_space_group_name_H-M   'P 1'\r\n",
      "_cell_length_a   4.20000000\r\n",
      "_cell_length_b   4.20000000\r\n",
      "_cell_length_c   4.20000000\r\n",
      "_cell_angle_alpha   90.00000000\r\n",
      "_cell_angle_beta   90.00000000\r\n",
      "_cell_angle_gamma   90.00000000\r\n",
      "_symmetry_Int_Tables_number   1\r\n",
      "_chemical_formula_structural   CsCl\r\n",
      "_chemical_formula_sum   'Cs1 Cl1'\r\n",
      "_cell_volume   74.08800000\r\n",
      "_cell_formula_units_Z   1\r\n",
      "loop_\r\n",
      " _symmetry_equiv_pos_site_id\r\n",
      " _symmetry_equiv_pos_as_xyz\r\n",
      "  1  'x, y, z'\r\n",
      "loop_\r\n",
      " _atom_site_type_symbol\r\n",
      " _atom_site_label\r\n",
      " _atom_site_symmetry_multiplicity\r\n",
      " _atom_site_fract_x\r\n",
      " _atom_site_fract_y\r\n",
      " _atom_site_fract_z\r\n",
      " _atom_site_occupancy\r\n",
      "  Cs  Cs0  1  0.000000  0.000000  0.000000  1\r\n",
      "  Cl  Cl1  1  0.500000  0.500000  0.500000  1\r\n"
     ]
    }
   ],
   "source": [
    "CsCl.to(filename=\"CsCl.cif\")\n",
    "!cat CsCl.cif"
   ]
  },
  {
   "cell_type": "code",
   "execution_count": 26,
   "metadata": {},
   "outputs": [
    {
     "data": {
      "text/plain": [
       "Structure Summary\n",
       "Lattice\n",
       "    abc : 4.2 4.2 4.2\n",
       " angles : 90.0 90.0 90.0\n",
       " volume : 74.08800000000001\n",
       "      A : 4.2 0.0 2.571758278209442e-16\n",
       "      B : -2.571758278209442e-16 4.2 2.571758278209442e-16\n",
       "      C : 0.0 0.0 4.2\n",
       "PeriodicSite: Cs (0.0000, 0.0000, 0.0000) [0.0000, 0.0000, 0.0000]\n",
       "PeriodicSite: Cl (2.1000, 2.1000, 2.1000) [0.5000, 0.5000, 0.5000]"
      ]
     },
     "execution_count": 26,
     "metadata": {},
     "output_type": "execute_result"
    }
   ],
   "source": [
    "## Reading Structure\n",
    "CsCl = mg.Structure.from_str(open(\"CsCl.cif\").read(), fmt=\"cif\")\n",
    "CsCl"
   ]
  },
  {
   "cell_type": "code",
   "execution_count": 27,
   "metadata": {},
   "outputs": [
    {
     "data": {
      "text/plain": [
       "Structure Summary\n",
       "Lattice\n",
       "    abc : 4.2 4.2 4.2\n",
       " angles : 90.0 90.0 90.0\n",
       " volume : 74.08800000000001\n",
       "      A : 4.2 0.0 2.571758278209442e-16\n",
       "      B : -2.571758278209442e-16 4.2 2.571758278209442e-16\n",
       "      C : 0.0 0.0 4.2\n",
       "PeriodicSite: Cs (0.0000, 0.0000, 0.0000) [0.0000, 0.0000, 0.0000]\n",
       "PeriodicSite: Cl (2.1000, 2.1000, 2.1000) [0.5000, 0.5000, 0.5000]"
      ]
     },
     "execution_count": 27,
     "metadata": {},
     "output_type": "execute_result"
    }
   ],
   "source": [
    "CsCl = mg.Structure.from_file(\"CsCl.cif\")\n",
    "CsCl"
   ]
  },
  {
   "cell_type": "code",
   "execution_count": 28,
   "metadata": {},
   "outputs": [
    {
     "data": {
      "text/plain": [
       "Structure Summary\n",
       "Lattice\n",
       "    abc : 4.2 4.2 4.2\n",
       " angles : 90.0 90.0 90.0\n",
       " volume : 74.08800000000001\n",
       "      A : 4.2 0.0 2.571758278209442e-16\n",
       "      B : -2.571758278209442e-16 4.2 2.571758278209442e-16\n",
       "      C : 0.0 0.0 4.2\n",
       "PeriodicSite: Cs (0.0000, 0.0000, 0.0000) [0.0000, 0.0000, 0.0000]\n",
       "PeriodicSite: F (2.1000, 2.1000, 2.1000) [0.5000, 0.5000, 0.5000]"
      ]
     },
     "execution_count": 28,
     "metadata": {},
     "output_type": "execute_result"
    }
   ],
   "source": [
    "CsCl[1] = \"F\"\n",
    "CsCl"
   ]
  },
  {
   "cell_type": "code",
   "execution_count": 29,
   "metadata": {},
   "outputs": [
    {
     "data": {
      "text/plain": [
       "Structure Summary\n",
       "Lattice\n",
       "    abc : 4.2 4.2 4.2\n",
       " angles : 90.0 90.0 90.0\n",
       " volume : 74.08800000000001\n",
       "      A : 4.2 0.0 2.571758278209442e-16\n",
       "      B : -2.571758278209442e-16 4.2 2.571758278209442e-16\n",
       "      C : 0.0 0.0 4.2\n",
       "PeriodicSite: Cs (0.0000, 0.0000, 0.0000) [0.0000, 0.0000, 0.0000]\n",
       "PeriodicSite: Cl (2.1420, 2.1420, 2.1420) [0.5100, 0.5100, 0.5100]"
      ]
     },
     "execution_count": 29,
     "metadata": {},
     "output_type": "execute_result"
    }
   ],
   "source": [
    "CsCl[1] = \"Cl\", [0.51, 0.51, 0.51]\n",
    "CsCl"
   ]
  },
  {
   "cell_type": "code",
   "execution_count": 30,
   "metadata": {},
   "outputs": [
    {
     "data": {
      "text/plain": [
       "Structure Summary\n",
       "Lattice\n",
       "    abc : 4.2 4.2 4.2\n",
       " angles : 90.0 90.0 90.0\n",
       " volume : 74.08800000000001\n",
       "      A : 4.2 0.0 2.571758278209442e-16\n",
       "      B : -2.571758278209442e-16 4.2 2.571758278209442e-16\n",
       "      C : 0.0 0.0 4.2\n",
       "PeriodicSite: K (0.0000, 0.0000, 0.0000) [0.0000, 0.0000, 0.0000]\n",
       "PeriodicSite: Cl (2.1420, 2.1420, 2.1420) [0.5100, 0.5100, 0.5100]"
      ]
     },
     "execution_count": 30,
     "metadata": {},
     "output_type": "execute_result"
    }
   ],
   "source": [
    "CsCl[\"Cs\"] = \"K\"\n",
    "CsCl"
   ]
  },
  {
   "cell_type": "code",
   "execution_count": 31,
   "metadata": {},
   "outputs": [
    {
     "data": {
      "text/plain": [
       "Structure Summary\n",
       "Lattice\n",
       "    abc : 4.2 4.2 4.2\n",
       " angles : 90.0 90.0 90.0\n",
       " volume : 74.08800000000001\n",
       "      A : 4.2 0.0 2.571758278209442e-16\n",
       "      B : -2.571758278209442e-16 4.2 2.571758278209442e-16\n",
       "      C : 0.0 0.0 4.2\n",
       "PeriodicSite: Cl (2.1420, 2.1420, 2.1420) [0.5100, 0.5100, 0.5100]\n",
       "PeriodicSite: K (0.0000, 0.0000, 0.0000) [0.0000, 0.0000, 0.0000]"
      ]
     },
     "execution_count": 31,
     "metadata": {},
     "output_type": "execute_result"
    }
   ],
   "source": [
    "CsCl.reverse()\n",
    "CsCl"
   ]
  },
  {
   "cell_type": "code",
   "execution_count": 32,
   "metadata": {},
   "outputs": [
    {
     "data": {
      "text/plain": [
       "Structure Summary\n",
       "Lattice\n",
       "    abc : 3.0 3.0 3.0\n",
       " angles : 90.0 90.0 90.0\n",
       " volume : 27.0\n",
       "      A : 3.0 0.0 0.0\n",
       "      B : 0.0 3.0 0.0\n",
       "      C : 0.0 0.0 3.0\n",
       "PeriodicSite: Li (0.7500, 0.7500, 0.7500) [0.2500, 0.2500, 0.2500]\n",
       "PeriodicSite: Li (2.2500, 0.7500, 0.7500) [0.7500, 0.2500, 0.2500]\n",
       "PeriodicSite: Li (2.2500, 2.2500, 0.7500) [0.7500, 0.7500, 0.2500]\n",
       "PeriodicSite: Li (0.7500, 2.2500, 0.7500) [0.2500, 0.7500, 0.2500]\n",
       "PeriodicSite: Li (0.7500, 2.2500, 2.2500) [0.2500, 0.7500, 0.7500]\n",
       "PeriodicSite: Li (0.7500, 0.7500, 2.2500) [0.2500, 0.2500, 0.7500]\n",
       "PeriodicSite: Li (2.2500, 0.7500, 2.2500) [0.7500, 0.2500, 0.7500]\n",
       "PeriodicSite: Li (2.2500, 2.2500, 2.2500) [0.7500, 0.7500, 0.7500]\n",
       "PeriodicSite: O (0.0000, 0.0000, 0.0000) [0.0000, 0.0000, 0.0000]\n",
       "PeriodicSite: O (0.0000, 1.5000, 1.5000) [0.0000, 0.5000, 0.5000]\n",
       "PeriodicSite: O (1.5000, 0.0000, 1.5000) [0.5000, 0.0000, 0.5000]\n",
       "PeriodicSite: O (1.5000, 1.5000, 0.0000) [0.5000, 0.5000, 0.0000]"
      ]
     },
     "execution_count": 32,
     "metadata": {},
     "output_type": "execute_result"
    }
   ],
   "source": [
    "li2o = mg.Structure.from_spacegroup(\"Fm-3m\", mg.Lattice.cubic(3),\n",
    "                                   [\"Li\", \"O\"],\n",
    "                                   [[0.25, 0.25, 0.25], [0, 0, 0]])\n",
    "li2o"
   ]
  },
  {
   "cell_type": "code",
   "execution_count": 33,
   "metadata": {},
   "outputs": [
    {
     "ename": "MPRestError",
     "evalue": "REST query returned with error status code 403. Content: b'{\"valid_response\": false, \"error\": \"API_KEY is not supplied.\", \"version\": {\"db\": \"2019.05\", \"pymatgen\": \"2019.10.16\", \"rest\": \"2.0\"}, \"created_at\": \"2020-04-16T09:26:15.840746\"}'",
     "output_type": "error",
     "traceback": [
      "\u001b[0;31m---------------------------------------------------------------------------\u001b[0m",
      "\u001b[0;31mMPRestError\u001b[0m                               Traceback (most recent call last)",
      "\u001b[0;32m~/opt/anaconda3/lib/python3.7/site-packages/pymatgen/ext/matproj.py\u001b[0m in \u001b[0;36m_make_request\u001b[0;34m(self, sub_url, payload, method, mp_decode)\u001b[0m\n\u001b[1;32m    161\u001b[0m             raise MPRestError(\"REST query returned with error status code {}\"\n\u001b[0;32m--> 162\u001b[0;31m                               .format(response.status_code))\n\u001b[0m\u001b[1;32m    163\u001b[0m \u001b[0;34m\u001b[0m\u001b[0m\n",
      "\u001b[0;31mMPRestError\u001b[0m: REST query returned with error status code 403",
      "\nDuring handling of the above exception, another exception occurred:\n",
      "\u001b[0;31mMPRestError\u001b[0m                               Traceback (most recent call last)",
      "\u001b[0;32m<ipython-input-33-2a707822e9f6>\u001b[0m in \u001b[0;36m<module>\u001b[0;34m\u001b[0m\n\u001b[0;32m----> 1\u001b[0;31m \u001b[0mlifepo4\u001b[0m \u001b[0;34m=\u001b[0m \u001b[0mmg\u001b[0m\u001b[0;34m.\u001b[0m\u001b[0mget_structure_from_mp\u001b[0m\u001b[0;34m(\u001b[0m\u001b[0;34m\"CsCl\"\u001b[0m\u001b[0;34m)\u001b[0m\u001b[0;34m\u001b[0m\u001b[0;34m\u001b[0m\u001b[0m\n\u001b[0m",
      "\u001b[0;32m~/opt/anaconda3/lib/python3.7/site-packages/pymatgen/__init__.py\u001b[0m in \u001b[0;36mget_structure_from_mp\u001b[0;34m(formula)\u001b[0m\n\u001b[1;32m     69\u001b[0m     \"\"\"\n\u001b[1;32m     70\u001b[0m     \u001b[0mm\u001b[0m \u001b[0;34m=\u001b[0m \u001b[0mMPRester\u001b[0m\u001b[0;34m(\u001b[0m\u001b[0;34m)\u001b[0m\u001b[0;34m\u001b[0m\u001b[0;34m\u001b[0m\u001b[0m\n\u001b[0;32m---> 71\u001b[0;31m     \u001b[0mentries\u001b[0m \u001b[0;34m=\u001b[0m \u001b[0mm\u001b[0m\u001b[0;34m.\u001b[0m\u001b[0mget_entries\u001b[0m\u001b[0;34m(\u001b[0m\u001b[0mformula\u001b[0m\u001b[0;34m,\u001b[0m \u001b[0minc_structure\u001b[0m\u001b[0;34m=\u001b[0m\u001b[0;34m\"final\"\u001b[0m\u001b[0;34m)\u001b[0m\u001b[0;34m\u001b[0m\u001b[0;34m\u001b[0m\u001b[0m\n\u001b[0m\u001b[1;32m     72\u001b[0m     \u001b[0;32mif\u001b[0m \u001b[0mlen\u001b[0m\u001b[0;34m(\u001b[0m\u001b[0mentries\u001b[0m\u001b[0;34m)\u001b[0m \u001b[0;34m==\u001b[0m \u001b[0;36m0\u001b[0m\u001b[0;34m:\u001b[0m\u001b[0;34m\u001b[0m\u001b[0;34m\u001b[0m\u001b[0m\n\u001b[1;32m     73\u001b[0m         raise ValueError(\"No structure with formula %s in Materials Project!\" %\n",
      "\u001b[0;32m~/opt/anaconda3/lib/python3.7/site-packages/pymatgen/ext/matproj.py\u001b[0m in \u001b[0;36mget_entries\u001b[0;34m(self, chemsys_formula_id_criteria, compatible_only, inc_structure, property_data, conventional_unit_cell, sort_by_e_above_hull)\u001b[0m\n\u001b[1;32m    407\u001b[0m         \u001b[0;32melse\u001b[0m\u001b[0;34m:\u001b[0m\u001b[0;34m\u001b[0m\u001b[0;34m\u001b[0m\u001b[0m\n\u001b[1;32m    408\u001b[0m             \u001b[0mcriteria\u001b[0m \u001b[0;34m=\u001b[0m \u001b[0mchemsys_formula_id_criteria\u001b[0m\u001b[0;34m\u001b[0m\u001b[0;34m\u001b[0m\u001b[0m\n\u001b[0;32m--> 409\u001b[0;31m         \u001b[0mdata\u001b[0m \u001b[0;34m=\u001b[0m \u001b[0mself\u001b[0m\u001b[0;34m.\u001b[0m\u001b[0mquery\u001b[0m\u001b[0;34m(\u001b[0m\u001b[0mcriteria\u001b[0m\u001b[0;34m,\u001b[0m \u001b[0mprops\u001b[0m\u001b[0;34m)\u001b[0m\u001b[0;34m\u001b[0m\u001b[0;34m\u001b[0m\u001b[0m\n\u001b[0m\u001b[1;32m    410\u001b[0m \u001b[0;34m\u001b[0m\u001b[0m\n\u001b[1;32m    411\u001b[0m         \u001b[0mentries\u001b[0m \u001b[0;34m=\u001b[0m \u001b[0;34m[\u001b[0m\u001b[0;34m]\u001b[0m\u001b[0;34m\u001b[0m\u001b[0;34m\u001b[0m\u001b[0m\n",
      "\u001b[0;32m~/opt/anaconda3/lib/python3.7/site-packages/pymatgen/ext/matproj.py\u001b[0m in \u001b[0;36mquery\u001b[0;34m(self, criteria, properties, chunk_size, max_tries_per_chunk, mp_decode)\u001b[0m\n\u001b[1;32m    798\u001b[0m         \u001b[0mcount_payload\u001b[0m\u001b[0;34m[\u001b[0m\u001b[0;34m\"options\"\u001b[0m\u001b[0;34m]\u001b[0m \u001b[0;34m=\u001b[0m \u001b[0mjson\u001b[0m\u001b[0;34m.\u001b[0m\u001b[0mdumps\u001b[0m\u001b[0;34m(\u001b[0m\u001b[0;34m{\u001b[0m\u001b[0;34m\"count_only\"\u001b[0m\u001b[0;34m:\u001b[0m \u001b[0;32mTrue\u001b[0m\u001b[0;34m}\u001b[0m\u001b[0;34m)\u001b[0m\u001b[0;34m\u001b[0m\u001b[0;34m\u001b[0m\u001b[0m\n\u001b[1;32m    799\u001b[0m         num_results = self._make_request(\n\u001b[0;32m--> 800\u001b[0;31m             \"/query\", payload=count_payload, method=\"POST\")\n\u001b[0m\u001b[1;32m    801\u001b[0m         \u001b[0;32mif\u001b[0m \u001b[0mnum_results\u001b[0m \u001b[0;34m<=\u001b[0m \u001b[0mchunk_size\u001b[0m\u001b[0;34m:\u001b[0m\u001b[0;34m\u001b[0m\u001b[0;34m\u001b[0m\u001b[0m\n\u001b[1;32m    802\u001b[0m             return self._make_request(\n",
      "\u001b[0;32m~/opt/anaconda3/lib/python3.7/site-packages/pymatgen/ext/matproj.py\u001b[0m in \u001b[0;36m_make_request\u001b[0;34m(self, sub_url, payload, method, mp_decode)\u001b[0m\n\u001b[1;32m    165\u001b[0m             \u001b[0mmsg\u001b[0m \u001b[0;34m=\u001b[0m \u001b[0;34m\"{}. Content: {}\"\u001b[0m\u001b[0;34m.\u001b[0m\u001b[0mformat\u001b[0m\u001b[0;34m(\u001b[0m\u001b[0mstr\u001b[0m\u001b[0;34m(\u001b[0m\u001b[0mex\u001b[0m\u001b[0;34m)\u001b[0m\u001b[0;34m,\u001b[0m \u001b[0mresponse\u001b[0m\u001b[0;34m.\u001b[0m\u001b[0mcontent\u001b[0m\u001b[0;34m)\u001b[0m\u001b[0;31m \u001b[0m\u001b[0;31m\\\u001b[0m\u001b[0;34m\u001b[0m\u001b[0;34m\u001b[0m\u001b[0m\n\u001b[1;32m    166\u001b[0m                 \u001b[0;32mif\u001b[0m \u001b[0mhasattr\u001b[0m\u001b[0;34m(\u001b[0m\u001b[0mresponse\u001b[0m\u001b[0;34m,\u001b[0m \u001b[0;34m\"content\"\u001b[0m\u001b[0;34m)\u001b[0m \u001b[0;32melse\u001b[0m \u001b[0mstr\u001b[0m\u001b[0;34m(\u001b[0m\u001b[0mex\u001b[0m\u001b[0;34m)\u001b[0m\u001b[0;34m\u001b[0m\u001b[0;34m\u001b[0m\u001b[0m\n\u001b[0;32m--> 167\u001b[0;31m             \u001b[0;32mraise\u001b[0m \u001b[0mMPRestError\u001b[0m\u001b[0;34m(\u001b[0m\u001b[0mmsg\u001b[0m\u001b[0;34m)\u001b[0m\u001b[0;34m\u001b[0m\u001b[0;34m\u001b[0m\u001b[0m\n\u001b[0m\u001b[1;32m    168\u001b[0m \u001b[0;34m\u001b[0m\u001b[0m\n\u001b[1;32m    169\u001b[0m     \u001b[0;32mdef\u001b[0m \u001b[0mget_materials_id_from_task_id\u001b[0m\u001b[0;34m(\u001b[0m\u001b[0mself\u001b[0m\u001b[0;34m,\u001b[0m \u001b[0mtask_id\u001b[0m\u001b[0;34m)\u001b[0m\u001b[0;34m:\u001b[0m\u001b[0;34m\u001b[0m\u001b[0;34m\u001b[0m\u001b[0m\n",
      "\u001b[0;31mMPRestError\u001b[0m: REST query returned with error status code 403. Content: b'{\"valid_response\": false, \"error\": \"API_KEY is not supplied.\", \"version\": {\"db\": \"2019.05\", \"pymatgen\": \"2019.10.16\", \"rest\": \"2.0\"}, \"created_at\": \"2020-04-16T09:26:15.840746\"}'"
     ]
    }
   ],
   "source": [
    "lifepo4 = mg.get_structure_from_mp(\"CsCl\")"
   ]
  }
 ],
 "metadata": {
  "kernelspec": {
   "display_name": "Python 3",
   "language": "python",
   "name": "python3"
  },
  "language_info": {
   "codemirror_mode": {
    "name": "ipython",
    "version": 3
   },
   "file_extension": ".py",
   "mimetype": "text/x-python",
   "name": "python",
   "nbconvert_exporter": "python",
   "pygments_lexer": "ipython3",
   "version": "3.7.4"
  }
 },
 "nbformat": 4,
 "nbformat_minor": 2
}
